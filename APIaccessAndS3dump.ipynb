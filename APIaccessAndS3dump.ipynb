{
 "cells": [
  {
   "cell_type": "code",
   "execution_count": 8,
   "id": "c66173e7",
   "metadata": {},
   "outputs": [],
   "source": [
    "# importing required libs\n",
    "from fatsecret import Fatsecret\n",
    "import boto3\n",
    "from credentials import customerKey, customerSecret, awsKey, awsSecret\n",
    "from credentials import user, password, host, database\n",
    "from datetime import timedelta\n",
    "import datetime\n",
    "from dateutil.relativedelta import relativedelta\n",
    "import json\n",
    "import os\n",
    "import mysql.connector"
   ]
  },
  {
   "cell_type": "code",
   "execution_count": 9,
   "id": "f531581c",
   "metadata": {},
   "outputs": [
    {
     "name": "stdout",
     "output_type": "stream",
     "text": [
      "https://www.fatsecret.com/oauth/authorize?oauth_token=868752d497f94cd898d7de3bb014bc18\n",
      "Enter the access code: 4452370\n"
     ]
    },
    {
     "data": {
      "text/plain": [
       "('828e31def45e4bf29cd43d3d88c5b5d7', '3b00bbf54f57467ab45843ad8443c014')"
      ]
     },
     "execution_count": 9,
     "metadata": {},
     "output_type": "execute_result"
    }
   ],
   "source": [
    "# connecting to the API and getting authenticated\n",
    "fs = Fatsecret(customerKey, customerSecret)\n",
    "print(fs.get_authorize_url())\n",
    "AccessCode = input(\"Enter the access code: \")\n",
    "fs.authenticate(AccessCode)"
   ]
  },
  {
   "cell_type": "code",
   "execution_count": 10,
   "id": "8564a4a7",
   "metadata": {},
   "outputs": [],
   "source": [
    "def returnDates(user, password, host, database):\n",
    "    database = mysql.connector.connect(user = user, password = password, host = host, database = database)\n",
    "    cursor = database.cursor()\n",
    "    cursor.execute('''SELECT MAX(date_of_log)\n",
    "                        FROM food_entry;''')\n",
    "    endDate = cursor.fetchall()[0][0]\n",
    "    yesterDay = datetime.datetime.now().date() - timedelta(days=1)\n",
    "    difference = yesterDay - endDate\n",
    "    days = []\n",
    "    if difference.days == 0: \n",
    "        print(\"No loading needed\")\n",
    "        return None\n",
    "    elif difference.days <= 10:\n",
    "        while endDate != yesterDay:\n",
    "            endDate += timedelta(days=1)\n",
    "            days.append(endDate.strftime('%Y-%m-%d'))\n",
    "    else: \n",
    "        tenMore = endDate + timedelta(days = 10)\n",
    "        while endDate <= tenMore:\n",
    "            endDate += timedelta(days = 1)\n",
    "            days.append(endDate.strftime('%Y-%m-%d'))\n",
    "    return days"
   ]
  },
  {
   "cell_type": "code",
   "execution_count": 11,
   "id": "e68489bb",
   "metadata": {},
   "outputs": [],
   "source": [
    "class infoGetter: \n",
    "    def __init__(self, fs):\n",
    "        self.fs = fs\n",
    "    \n",
    "    def getProfile(self):\n",
    "        return self.fs.profile_get()\n",
    "    \n",
    "    def getFoodEntries(self, days):\n",
    "        allFoodEntries = []\n",
    "        for day in days:\n",
    "            d = datetime.datetime.strptime(day, '%Y-%m-%d')\n",
    "            oneDayFoodEntry = fs.food_entries_get(date = d)\n",
    "            allFoodEntries.extend(oneDayFoodEntry)\n",
    "        return allFoodEntries\n",
    "    \n",
    "    def caloriesBurnedDay(self, months, year):\n",
    "        dates = []\n",
    "        for month in months: \n",
    "            dates.append(datetime.datetime(year, month, 1))\n",
    "        caloriesBurned = []\n",
    "        for date in dates:\n",
    "            caloriesMonth = fs.exercise_entries_get_month(date = date)\n",
    "            if type(caloriesMonth) == dict:\n",
    "                caloriesBurned.append(caloriesMonth)\n",
    "            elif type(caloriesMonth) == list:\n",
    "                caloriesBurned.extend(caloriesMonth)\n",
    "        return caloriesBurned\n",
    "    \n",
    "    def getWeights(self, months, year):\n",
    "        weights = []\n",
    "        for month in months:\n",
    "            date = f'{year}-{month}-1'\n",
    "            weightMonth = fs.weights_get_month(date = datetime.datetime.strptime(date, '%Y-%m-%d'))\n",
    "            weights.extend(weightMonth)\n",
    "        return weights\n",
    "    \n",
    "    def getBMR(self, months, year, man, age):\n",
    "        profileDict = self.getProfile()\n",
    "        weights = self.getWeights(months, year)\n",
    "        for weight in weights:\n",
    "            if man == 1:\n",
    "                weight[\"BMR\"] = 88.362 + (13.397 * float(weight[\"weight_kg\"])) + (4.799 * float(profileDict[\"height_cm\"])) - (5.677 * age)\n",
    "            else:\n",
    "                weight[\"BMR\"] = 447.593 + (9.247 * float(weight[\"weight_kg\"])) + (3.098 * float(profileDict[\"height_cm\"])) - (4.330 * age)\n",
    "        return weights\n",
    "    \n"
   ]
  },
  {
   "cell_type": "code",
   "execution_count": 13,
   "id": "c78a4fe0",
   "metadata": {},
   "outputs": [],
   "source": [
    "if __name__ == \"__main__\":\n",
    "    days = returnDates(user, password, host, database)\n",
    "    ig = infoGetter(fs)\n",
    "    months = list(range(1, 5))\n",
    "    \n",
    "    profile = ig.getProfile()\n",
    "    foodEntries = ig.getFoodEntries(days)\n",
    "    caloriesBurned = ig.caloriesBurnedDay(months, 2024)\n",
    "    weights = ig.getBMR(months = months,year = 2024, man = 1, age = 23)\n",
    "    with open(\"local_warehouse/profile.json\", \"w\") as file:\n",
    "        profile[\"profile_id\"] = 1\n",
    "        json.dump(profile, file)\n",
    "    \n",
    "    with open(\"local_warehouse/caloriesBurned.json\", \"w\") as file: \n",
    "        json.dump(caloriesBurned, file)\n",
    "    \n",
    "    with open(\"local_warehouse/weights.json\", \"w\") as file:\n",
    "        json.dump(weights, file)\n",
    "        \n",
    "    with open(\"local_warehouse/foodEntries.json\", \"r\") as file:\n",
    "        existing_data = json.load(file)\n",
    "\n",
    "    existing_data.extend(foodEntries)\n",
    "\n",
    "    with open(\"local_warehouse/foodEntries.json\", \"w\") as file:\n",
    "        json.dump(existing_data, file, indent=4)"
   ]
  },
  {
   "cell_type": "code",
   "execution_count": 14,
   "id": "5585c1e3",
   "metadata": {},
   "outputs": [],
   "source": [
    "class s3Writer:\n",
    "    def __init__(self, awsKey, awsSecret):\n",
    "        self.awsKey = awsKey\n",
    "        self.awsSecret = awsSecret\n",
    "    \n",
    "    def signIn(self):\n",
    "        s3 = boto3.resource('s3', aws_access_key_id = self.awsKey, \n",
    "                            aws_secret_access_key = self.awsSecret, region_name='us-east-1')\n",
    "        return s3\n",
    "    \n",
    "    def write(self, buketName, writingDict):\n",
    "        s3 = self.signIn()\n",
    "        bucket = s3.Bucket(buketName)\n",
    "\n",
    "        for json_key in writingDict:\n",
    "            json_string = json.dumps(writingDict[json_key])\n",
    "            bucket.put_object(Key=json_key, Body=json_string)"
   ]
  },
  {
   "cell_type": "code",
   "execution_count": 15,
   "id": "220bbc9d",
   "metadata": {},
   "outputs": [],
   "source": [
    "if __name__ == \"__main__\":\n",
    "    writingDict = {\n",
    "        \"profile.json\": profile,\n",
    "        \"foodEntries.json\": existing_data,\n",
    "        \"caloriesBurned.json\": caloriesBurned,\n",
    "        \"weights.json\": weights\n",
    "    }\n",
    "\n",
    "    s3writer = s3Writer(awsKey, awsSecret)\n",
    "    s3writer.write(\"fatsecret\", writingDict)"
   ]
  },
  {
   "cell_type": "code",
   "execution_count": null,
   "id": "53941d09",
   "metadata": {},
   "outputs": [],
   "source": []
  }
 ],
 "metadata": {
  "kernelspec": {
   "display_name": "Python 3 (ipykernel)",
   "language": "python",
   "name": "python3"
  },
  "language_info": {
   "codemirror_mode": {
    "name": "ipython",
    "version": 3
   },
   "file_extension": ".py",
   "mimetype": "text/x-python",
   "name": "python",
   "nbconvert_exporter": "python",
   "pygments_lexer": "ipython3",
   "version": "3.11.5"
  }
 },
 "nbformat": 4,
 "nbformat_minor": 5
}
