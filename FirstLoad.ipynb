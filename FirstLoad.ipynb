{
 "cells": [
  {
   "cell_type": "code",
   "execution_count": 1,
   "id": "12150782",
   "metadata": {},
   "outputs": [],
   "source": [
    "from fatsecret import Fatsecret\n",
    "from credentials import customerKey, customerSecret, awsKey, awsSecret\n",
    "from datetime import timedelta\n",
    "import datetime\n",
    "from dateutil.relativedelta import relativedelta\n",
    "import json"
   ]
  },
  {
   "cell_type": "code",
   "execution_count": 6,
   "id": "698169c0",
   "metadata": {},
   "outputs": [],
   "source": [
    "def returnDates(start_date):\n",
    "    start_date = datetime.datetime.strptime(start_date, '%Y-%m-%d')\n",
    "    \n",
    "    yesterday = datetime.datetime.now() - timedelta(days=3)\n",
    "    dates_list = []\n",
    "    current_date = start_date\n",
    "    while current_date <= yesterday:\n",
    "        dates_list.append(current_date.strftime('%Y-%m-%d'))\n",
    "        current_date += timedelta(days=1)\n",
    "    \n",
    "    return dates_list"
   ]
  },
  {
   "cell_type": "code",
   "execution_count": 7,
   "id": "1556ba0b",
   "metadata": {},
   "outputs": [],
   "source": [
    "days = returnDates(\"2024-01-01\")"
   ]
  },
  {
   "cell_type": "code",
   "execution_count": 4,
   "id": "d7b321fc",
   "metadata": {},
   "outputs": [],
   "source": [
    "foodEntryAll = []"
   ]
  },
  {
   "cell_type": "code",
   "execution_count": 27,
   "id": "e212d910",
   "metadata": {},
   "outputs": [
    {
     "data": {
      "text/plain": [
       "770"
      ]
     },
     "execution_count": 27,
     "metadata": {},
     "output_type": "execute_result"
    }
   ],
   "source": [
    "len(foodEntryAll)"
   ]
  },
  {
   "cell_type": "code",
   "execution_count": 25,
   "id": "e175b304",
   "metadata": {},
   "outputs": [
    {
     "name": "stdout",
     "output_type": "stream",
     "text": [
      "https://www.fatsecret.com/oauth/authorize?oauth_token=7e9f782b09e64339ad71512075607e65\n",
      "Enter the access code: 1816212\n"
     ]
    },
    {
     "data": {
      "text/plain": [
       "('828e31def45e4bf29cd43d3d88c5b5d7', '3b00bbf54f57467ab45843ad8443c014')"
      ]
     },
     "execution_count": 25,
     "metadata": {},
     "output_type": "execute_result"
    }
   ],
   "source": [
    "fs = Fatsecret(customerKey, customerSecret)\n",
    "print(fs.get_authorize_url())\n",
    "\n",
    "AccessCode = input(\"Enter the access code: \")\n",
    "\n",
    "fs.authenticate(AccessCode)"
   ]
  },
  {
   "cell_type": "code",
   "execution_count": 26,
   "id": "815eb102",
   "metadata": {},
   "outputs": [],
   "source": [
    "for day in days[60:]:\n",
    "    date = datetime.datetime.strptime(day, '%Y-%m-%d')\n",
    "    foodEntryDay = fs.food_entries_get(date= date)\n",
    "    foodEntryAll.extend(foodEntryDay)\n",
    "fs.close()"
   ]
  },
  {
   "cell_type": "code",
   "execution_count": 29,
   "id": "26070945",
   "metadata": {},
   "outputs": [],
   "source": [
    "with open (\"local_warehouse/foodEntries.json\", \"w\") as file:\n",
    "    json.dump(foodEntryAll, file, indent = 4)"
   ]
  },
  {
   "cell_type": "code",
   "execution_count": 30,
   "id": "ae28f276",
   "metadata": {},
   "outputs": [],
   "source": [
    "months = [\"2024-01-01\", \"2024-02-01\", \"2024-03-01\"]"
   ]
  },
  {
   "cell_type": "code",
   "execution_count": 31,
   "id": "11513231",
   "metadata": {},
   "outputs": [],
   "source": [
    "weights = []\n",
    "for month in months:\n",
    "    weightMonth = fs.weights_get_month(date = datetime.datetime.strptime(month, '%Y-%m-%d'))\n",
    "    weights.extend(weightMonth)"
   ]
  },
  {
   "cell_type": "code",
   "execution_count": 36,
   "id": "22e61c83",
   "metadata": {},
   "outputs": [],
   "source": [
    "profile = fs.profile_get()\n",
    "profile[\"profile_id\"] = 1"
   ]
  },
  {
   "cell_type": "code",
   "execution_count": 37,
   "id": "04a97d1a",
   "metadata": {},
   "outputs": [],
   "source": [
    "for weight in weights:\n",
    "    weight[\"BMR\"] = 88.362 + (13.397 * float(weight[\"weight_kg\"])) + (4.799 * float(profile[\"height_cm\"])) - (5.677 * 23)"
   ]
  },
  {
   "cell_type": "code",
   "execution_count": 38,
   "id": "569249bf",
   "metadata": {},
   "outputs": [],
   "source": [
    "with open (\"local_warehouse/weights.json\", \"w\") as file:\n",
    "    json.dump(weights, file, indent = 4)"
   ]
  },
  {
   "cell_type": "code",
   "execution_count": 39,
   "id": "e4ce73b0",
   "metadata": {},
   "outputs": [],
   "source": [
    "with open (\"local_warehouse/profile.json\", \"w\") as file:\n",
    "    json.dump(profile, file, indent = 4)"
   ]
  },
  {
   "cell_type": "code",
   "execution_count": 40,
   "id": "cf2db2a0",
   "metadata": {},
   "outputs": [],
   "source": [
    "caloriesBurned = []"
   ]
  },
  {
   "cell_type": "code",
   "execution_count": 41,
   "id": "777629d6",
   "metadata": {},
   "outputs": [],
   "source": [
    "for month in months:\n",
    "    caloriesMonth = fs.exercise_entries_get_month(datetime.datetime.strptime(month, '%Y-%m-%d'))\n",
    "    if type(caloriesMonth) == dict:\n",
    "        caloriesBurned.append(caloriesMonth)\n",
    "    elif type(caloriesMonth) == list:\n",
    "        caloriesBurned.extend(caloriesMonth)"
   ]
  },
  {
   "cell_type": "code",
   "execution_count": 42,
   "id": "7a877496",
   "metadata": {},
   "outputs": [],
   "source": [
    "with open (\"local_warehouse/caloriesBurned.json\", \"w\") as file:\n",
    "    json.dump(caloriesBurned, file, indent = 4)"
   ]
  },
  {
   "cell_type": "code",
   "execution_count": null,
   "id": "4c915c97",
   "metadata": {},
   "outputs": [],
   "source": []
  }
 ],
 "metadata": {
  "kernelspec": {
   "display_name": "Python 3 (ipykernel)",
   "language": "python",
   "name": "python3"
  },
  "language_info": {
   "codemirror_mode": {
    "name": "ipython",
    "version": 3
   },
   "file_extension": ".py",
   "mimetype": "text/x-python",
   "name": "python",
   "nbconvert_exporter": "python",
   "pygments_lexer": "ipython3",
   "version": "3.11.5"
  }
 },
 "nbformat": 4,
 "nbformat_minor": 5
}
